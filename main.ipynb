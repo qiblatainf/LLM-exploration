{
 "cells": [
  {
   "cell_type": "code",
   "execution_count": 15,
   "metadata": {},
   "outputs": [],
   "source": [
    "from datasets import load_dataset\n",
    "from transformers import AutoTokenizer, AutoModelForSequenceClassification, Trainer, TrainingArguments, DataCollatorWithPadding\n",
    "import evaluate\n",
    "import numpy as np\n",
    "import torch"
   ]
  },
  {
   "cell_type": "code",
   "execution_count": 3,
   "metadata": {},
   "outputs": [],
   "source": [
    "#News categorization dataset\n",
    "\n",
    "ds = load_dataset(\"fancyzhx/ag_news\")"
   ]
  },
  {
   "cell_type": "code",
   "execution_count": 9,
   "metadata": {},
   "outputs": [
    {
     "name": "stdout",
     "output_type": "stream",
     "text": [
      "DatasetDict({\n",
      "    train: Dataset({\n",
      "        features: ['text', 'label'],\n",
      "        num_rows: 120000\n",
      "    })\n",
      "    test: Dataset({\n",
      "        features: ['text', 'label'],\n",
      "        num_rows: 7600\n",
      "    })\n",
      "})\n",
      "MemoryMappedTable\n",
      "text: string\n",
      "label: int64\n",
      "----\n",
      "text: [[\"Wall St. Bears Claw Back Into the Black (Reuters) Reuters - Short-sellers, Wall Street's dwindling\\band of ultra-cynics, are seeing green again.\",\"Carlyle Looks Toward Commercial Aerospace (Reuters) Reuters - Private investment firm Carlyle Group,\\which has a reputation for making well-timed and occasionally\\controversial plays in the defense industry, has quietly placed\\its bets on another part of the market.\",\"Oil and Economy Cloud Stocks' Outlook (Reuters) Reuters - Soaring crude prices plus worries\\about the economy and the outlook for earnings are expected to\\hang over the stock market next week during the depth of the\\summer doldrums.\",\"Iraq Halts Oil Exports from Main Southern Pipeline (Reuters) Reuters - Authorities have halted oil export\\flows from the main pipeline in southern Iraq after\\intelligence showed a rebel militia could strike\\infrastructure, an oil official said on Saturday.\",\"Oil prices soar to all-time record, posing new menace to US economy (AFP) AFP - Tearaway world oil prices, toppling records and straining wallets, present a new economic menace barely three months before the US presidential elections.\",...,\"U.S. Stocks Rebound as Oil Prices Ease  NEW YORK (Reuters) - U.S. stocks rebounded on Monday as oil  prices retreated from their highs, while upbeat earnings  announcements from retailers fueled the improved sentiment.\",\"Dollar Rises Vs Euro After Asset Data  NEW YORK (Reuters) - The dollar gained against the euro on  Monday after a report on flows into U.S. assets showed enough  of a rise in foreign investments to offset the current account  gap for the month.\",\"Bikes Bring Internet to Indian Villagers (AP) AP - For 12-year-old Anju Sharma, hope for a better life arrives in her poor farming village three days a week on a bicycle rickshaw that carries a computer with a high-speed, wireless Internet connection.\",\"Celebrity Chefs Are Everywhere in Vegas By ADAM GOLDMAN    LAS VEGAS (AP) -- The waiter appears tableside in the cozy dining room laden with oil paintings, stained glass and hints of cherry and oak. Before reciting the day's special menu items, he recounts the restaurant's devotion to farm-fresh produce and tosses out a morsel about its namesake, chef Bradley Ogden...\",\"Entertainment World Wary of Microsoft Technology By GARY GENTILE    LOS ANGELES (AP) -- CinemaNow Inc., the Internet-based movie service, is a rarity in Hollywood - a company that eagerly embraces Microsoft Corp. (MSFT) technology and relies on it exclusively to transmit, protect and display the movies it rents to customers...\"],[\"European Union Extends Microsoft-Time Warner Review BRUSSELS, Belgium (AP) -- European antitrust regulators said Monday they have extended their review of a deal between Microsoft Corp. (MSFT) and Time Warner Inc...\",\"Patriots Sign Top Pick Watson (Reuters) Reuters - The New England Patriots\\Monday announced the signing of first-round draft pick Benjamin\\Watson. As per team policy, terms of the tight end's deal were\\not released.\",\"Olympics: Thorpe Beats Phelps as U.S. Fights Gold Gap  ATHENS (Reuters) - Australian swimmer Ian Thorpe beat  arch-rival Michael Phelps in the men's 200-meter freestyle on  Monday as the United States pursued China, Australia and Japan  in the medals table on day three of the Olympic Games.\",\"U.S. Awaits Judgment on Venezuela Voting (AP) AP - There was no evident pattern of fraud in Venezuela's balloting that left President Hugo Chavez in office but a final judgment depends on what observers report, the State Department said Monday.\",\"Bush, Kerry Press for Women's Votes (AP) AP - Elizabeth Burnosky is a registered Democrat who voted for President Bush in 2000, opposes his policy on Iraq and calls Sen. John Kerry \"a little wussy boy.\" Call her conflicted.\",...,\"Google Interview Is Draw for Latest Playboy Issue (Reuters) Reuters - The new issue of Playboy magazine\\isn't drawing attention in some circles for its trademark\\centerfold but for an interview with the founders of Web search\\engine Google Inc. that raised regulatory eyebrows.\",\"Williamson Gets Third Opinion on Elbow (AP) AP - Red Sox reliever Scott Williamson sought a third opinion on his ailing right elbow Tuesday before deciding whether to have major reconstructive surgery.\",\"Iran Threatens Israel on Nuclear Reactor (AP) AP - Accompanied by a warning that its missiles have the range, Iran on Tuesday said it would destroy Israel's Dimona nuclear reactor if the Jewish state were to attack Iran's nuclear facilities.\",\"Grim funeral service held for Burundi massacre victims (AFP) AFP - Thousands of grieving people and top politicians attended a grim funeral service held to bury some 160 Congolese Tutsis slaughtered in a refugee camp in Burundi.\",\"Borders Profits Rise, Raises Outlook NEW YORK (Reuters) - Borders Group Inc. (BGP.N: Quote, Profile, Research) , the No. 2 US bookseller, on Tuesday said quarterly earnings rose, beating estimates by the company and Wall Street, largely because of stronger-than-expected book sales. \"],...,[\"Scandal claims a tearful Blunkett THE revenge of an ex-lover has forced the resignation of British Home Secretary David Blunkett, dealing a blow to Tony Blair less than six months before an expected general election.\",\"UN broadens its presence in Iraq UNITED NATIONS, New York The United Nations has announced that it is expanding its presence in Iraq outside of Baghdad to the cities of Erbil and Basra and planning to send a small addition of staff members into the country to assist in the elections \",\"Current Account Gap Widens to Record (Reuters) Reuters - The U.S. current account deficit\\widened slightly to a record  #36;164.71 billion in the third\\quarter as the goods trade shortfall grew and the services\\surplus shrank, the government said on Thursday.\",\"Symantec to Buy Veritas for \\$13.5 Billion  NEW YORK/SAN FRANCISCO (Reuters) - Symantec Corp. &lt;A HREF=\"http://www.investor.reuters.com/FullQuote.aspx?ticker=SYMC.O target=/stocks/quickinfo/fullquote\"&gt;SYMC.O&lt;/A&gt;,  a maker of security software, on Thursday said it would buy  storage software maker Veritas Software Corp. &lt;A HREF=\"http://www.investor.reuters.com/FullQuote.aspx?ticker=VRTS.O target=/stocks/quickinfo/fullquote\"&gt;VRTS.O&lt;/A&gt; for  \\$13.5 billion, creating the world's fourth-largest software  company.\",\"Goldman Profit Rises; Revenue Disappoints  NEW YORK (Reuters) - Goldman Sachs Group Inc. on Thursday  said fourth-quarter profit rose 23 percent on strong  fixed-income and commodities trading results and investment  banking gains, but shares fell as revenue missed expectations.\",...,\"OSI Pharma Soars on AstraZeneca #39;s Loss Shares in OSI Pharmaceuticals (OSIP :Nasdaq - news - research) and Genentech (DNA :Nasdaq - news - research) jumped Friday after AstraZeneca (AZN :NYSE - news - research) said new medical data showed its lung cancer drug Iressa provided no survival \",\"Report: Murdoch offers \\$44 million for NY apartment Rupert Murdoch, the billionaire CEO of News Corp. (NWS)(NWSA), has reportedly offered to buy a three-story penthouse for \\$44 million, which would be the highest price ever paid for a Manhattan apartment if the deal goes through.\",\"Tom Online Buys Stake in Indiagames Wireless Internet company Tom Online Inc. on Friday said it signed a definitive agreement to buy a majority stake in Indiagames Ltd.\",\"Wenger fined, warned over Ruud outburst Arsenal manager Arsene Wenger has been fined 15 000 (about R160 000) for improper conduct over comments he made after the English champions #39; controversial 2-0 defeat by Manchester United in October.\",\"In  quot;year of opportunity, quot; Sharon offers state to Palestinians HERZLIYA, Israel An adviser to Israeli Prime Minister Ariel Sharon says a final vote on his planned pullout from Gaza and four West Bank communities could take place months sooner.\"],[\"Israeli Army Raid Into Gaza Kills 5 Palestinians Israeli tanks and troops raided southern Gaza on Friday in response to increasing Palestinian mortar attacks, killing at least five Palestinians and prompting hundreds to flee their homes, witnesses and medics said.\",\"Terrorists threat puts Indonesia on high alert The island paradise Bali will be off limits this holiday season. If your travel plans include Indonesia, you would be wise to cancel your trip immediately.\",\"AP: Colombia Troops Being Sought for Iraq Recruiters working for U.S. contractors are hiring former Colombian soldiers - and luring away active-duty ones - for security jobs in Iraq, according to a former army officer who met with the recruiters.\",\"Cuban Doctor Returns Home From Argentina A prominent Cuban doctor returned home Thursday after an overnight stay at the Argentine Embassy that raised tensions between the two nations amid reports she was seeking political asylum.\",\"Prior art claimed for concentration camp invention &lt;strong&gt;Letters&lt;/strong&gt; It could only happen in &lt;em&gt;Letters&lt;/em&gt;\",...,\"Pakistan's Musharraf Says Won't Quit as Army Chief  KARACHI (Reuters) - Pakistani President Pervez Musharraf  has said he will stay on as army chief, reneging on a pledge to  quit the powerful post by the end of the year.\",\"Renteria signing a top-shelf deal Red Sox general manager Theo Epstein acknowledged Edgar Renteria was more a luxury for the 2005 Red Sox than a necessity. But there's nothing wrong with getting the keys to a BMW, and that's what the four-time All-Star and two-time Gold Glover is in the eyes of the Red Sox.\",\"Saban not going to Dolphins yet The Miami Dolphins will put their courtship of LSU coach Nick Saban on hold to comply with the NFL's hiring policy by interviewing at least one minority candidate, a team source told The Associated Press last night.\",\"Today's NFL games PITTSBURGH at NY GIANTS Time: 1:30 p.m. Line: Steelers by 10. Records: Steelers 12-1, Giants 5-8. Vs. spread: Steelers 10-1-2, Giants 5-8. Series: Giants lead, 43-27-3. Comments: Think the Giants knew Ben Roethlisberger was available on draft day when they broke the bank and traded for Eli Manning? . . . All Big Ben has done this year is complete ...\",\"Nets get Carter from Raptors INDIANAPOLIS -- All-Star Vince Carter was traded by the Toronto Raptors to the New Jersey Nets for Alonzo Mourning, Eric Williams, Aaron Williams, and a pair of first-round draft picks yesterday.\"]]\n",
      "label: [[2,2,2,2,2,...,2,2,3,3,3],[3,1,1,0,0,...,3,1,0,0,2],...,[0,0,2,2,2,...,2,2,2,1,0],[0,0,0,0,3,...,0,1,1,1,1]]\n"
     ]
    }
   ],
   "source": [
    "#Exploring dataset\n",
    "print(ds)\n",
    "ds['train'].num_rows #total number of rows\n",
    "print(ds['train'].data)\n",
    "\n"
   ]
  },
  {
   "cell_type": "code",
   "execution_count": 4,
   "metadata": {},
   "outputs": [
    {
     "name": "stderr",
     "output_type": "stream",
     "text": [
      "c:\\Users\\Qiblatain\\Documents\\Coding\\Python Projects\\LLM-Exploration\\llm-env\\Lib\\site-packages\\huggingface_hub\\file_download.py:797: FutureWarning: `resume_download` is deprecated and will be removed in version 1.0.0. Downloads always resume when possible. If you want to force a new download, use `force_download=True`.\n",
      "  warnings.warn(\n",
      "Some weights of the model checkpoint at distilbert-base-uncased were not used when initializing DistilBertForSequenceClassification: ['vocab_layer_norm.weight', 'vocab_transform.weight', 'vocab_transform.bias', 'vocab_layer_norm.bias', 'vocab_projector.bias']\n",
      "- This IS expected if you are initializing DistilBertForSequenceClassification from the checkpoint of a model trained on another task or with another architecture (e.g. initializing a BertForSequenceClassification model from a BertForPreTraining model).\n",
      "- This IS NOT expected if you are initializing DistilBertForSequenceClassification from the checkpoint of a model that you expect to be exactly identical (initializing a BertForSequenceClassification model from a BertForSequenceClassification model).\n",
      "Some weights of DistilBertForSequenceClassification were not initialized from the model checkpoint at distilbert-base-uncased and are newly initialized: ['classifier.bias', 'pre_classifier.weight', 'pre_classifier.bias', 'classifier.weight']\n",
      "You should probably TRAIN this model on a down-stream task to be able to use it for predictions and inference.\n"
     ]
    }
   ],
   "source": [
    "\n",
    "#model_checkpoint = 'sileod/deberta-v3-base-tasksource-nli'\n",
    "model_checkpoint = 'distilbert-base-uncased'\n",
    "\n",
    "#labels = World 0, Sports 1 , Business 2, SciTech 3\n",
    "\n",
    "# define label maps\n",
    "idToLabel = {0: \"World\", 1: \"Sports\", 2: \"Business\", 3: \"Sci/Tech\"}\n",
    "labelToId = {\"World\":0, \"Sports\":1, \"Business\":2, \"Sci/Tech\":3}\n",
    "\n",
    "# generate classification model from model_checkpoint\n",
    "model = AutoModelForSequenceClassification.from_pretrained(model_checkpoint, num_labels=4, id2label=idToLabel, label2id=labelToId)"
   ]
  },
  {
   "cell_type": "code",
   "execution_count": 5,
   "metadata": {},
   "outputs": [
    {
     "name": "stderr",
     "output_type": "stream",
     "text": [
      "Map: 100%|██████████| 120000/120000 [00:36<00:00, 3293.76 examples/s]\n",
      "Map: 100%|██████████| 7600/7600 [00:02<00:00, 3138.42 examples/s]\n"
     ]
    }
   ],
   "source": [
    "\n",
    "\n",
    "# Initialize DistilBERT tokenizer\n",
    "tokenizer = AutoTokenizer.from_pretrained(model_checkpoint)\n",
    "\n",
    "#tokenizer converts the words to tokens for the machine to understand them\n",
    "#padding=\"max_length\": This setting adds padding to the input so that every sequence has the same length\n",
    "#truncation=\"True\": This ensures that if any text exceeds the maximum input length the model can handle, it will be truncated to fit\n",
    "def tokenize_function(example):\n",
    "    return tokenizer(example[\"text\"], padding=\"max_length\", truncation=True)\n",
    "\n",
    "# Apply tokenization to the dataset\n",
    "# This means that instead of tokenizing one piece of text at a time,\n",
    "# the function will receive a batch (or collection) of texts to process at once.\n",
    "tokenized_dataset = ds.map(tokenize_function, batched=True)\n"
   ]
  },
  {
   "cell_type": "code",
   "execution_count": 6,
   "metadata": {},
   "outputs": [],
   "source": [
    "# import accuracy evaluation metric\n",
    "accuracy = evaluate.load(\"accuracy\")"
   ]
  },
  {
   "cell_type": "code",
   "execution_count": 7,
   "metadata": {},
   "outputs": [],
   "source": [
    "def compute_metrics(p):\n",
    "    predictions, labels = p # This line extracts the predictions and labels from the input tuple.\n",
    "    predictions = np.argmax(predictions, axis=1) # converting the predicted probabilities into class labels.\n",
    "\n",
    "    return {\"accuracy\": accuracy.compute(predictions=predictions, references=labels)}"
   ]
  },
  {
   "cell_type": "code",
   "execution_count": 8,
   "metadata": {},
   "outputs": [
    {
     "name": "stdout",
     "output_type": "stream",
     "text": [
      "Stock markets rally as investors gain confidence in the economy. - Sci/Tech\n",
      "New study reveals alarming rise in global temperatures. - Sports\n",
      "Political tensions escalate ahead of the upcoming election. - Sports\n",
      "Scientists make breakthrough in cancer research, offering hope for patients. - Sports\n"
     ]
    }
   ],
   "source": [
    "text_list = [\n",
    "    \"Stock markets rally as investors gain confidence in the economy.\",\n",
    "    \"New study reveals alarming rise in global temperatures.\",\n",
    "    \"Political tensions escalate ahead of the upcoming election.\",\n",
    "    \"Scientists make breakthrough in cancer research, offering hope for patients.\"\n",
    "]\n",
    "\n",
    "for text in text_list:\n",
    "        # Tokenize text and get inputs\n",
    "        inputs = tokenizer.encode(text, return_tensors=\"pt\") #return_tensors=\"pt\" specifies that the output should be a PyTorch tensor, which is the required format for inputs to the model.\n",
    "        # Compute logits\n",
    "        logits = model(inputs).logits  # Disable gradient calculation for inference (since it is not in training phase, there is no need for calculation or utilization of memory)\n",
    "        # Get predicted class label\n",
    "        predictions = torch.argmax(logits)  # Get index of the predicted label\n",
    "        print(text + \" - \" + idToLabel[predictions.tolist()])"
   ]
  },
  {
   "cell_type": "code",
   "execution_count": 12,
   "metadata": {},
   "outputs": [],
   "source": [
    "args = TrainingArguments(\n",
    "    output_dir=\"output\",\n",
    "    evaluation_strategy=\"steps\",\n",
    "    eval_steps=500,\n",
    "    per_device_train_batch_size=8,\n",
    "    per_device_eval_batch_size=8,\n",
    "    num_train_epochs=3,\n",
    "    seed=0,\n",
    "    load_best_model_at_end=True,\n",
    ")"
   ]
  },
  {
   "cell_type": "code",
   "execution_count": null,
   "metadata": {},
   "outputs": [
    {
     "ename": "KeyError",
     "evalue": "'validation'",
     "output_type": "error",
     "traceback": [
      "\u001b[1;31m---------------------------------------------------------------------------\u001b[0m",
      "\u001b[1;31mKeyError\u001b[0m                                  Traceback (most recent call last)",
      "Cell \u001b[1;32mIn[14], line 6\u001b[0m\n\u001b[0;32m      1\u001b[0m \u001b[38;5;66;03m# creater trainer object\u001b[39;00m\n\u001b[0;32m      2\u001b[0m trainer \u001b[38;5;241m=\u001b[39m Trainer(\n\u001b[0;32m      3\u001b[0m     model\u001b[38;5;241m=\u001b[39mmodel,\n\u001b[0;32m      4\u001b[0m     args\u001b[38;5;241m=\u001b[39mtraining_args,\n\u001b[0;32m      5\u001b[0m     train_dataset\u001b[38;5;241m=\u001b[39mtokenized_dataset[\u001b[38;5;124m\"\u001b[39m\u001b[38;5;124mtrain\u001b[39m\u001b[38;5;124m\"\u001b[39m],\n\u001b[1;32m----> 6\u001b[0m     eval_dataset\u001b[38;5;241m=\u001b[39m\u001b[43mtokenized_dataset\u001b[49m\u001b[43m[\u001b[49m\u001b[38;5;124;43m\"\u001b[39;49m\u001b[38;5;124;43mvalidation\u001b[39;49m\u001b[38;5;124;43m\"\u001b[39;49m\u001b[43m]\u001b[49m,\n\u001b[0;32m      7\u001b[0m     tokenizer\u001b[38;5;241m=\u001b[39mtokenizer,\n\u001b[0;32m      8\u001b[0m     data_collator\u001b[38;5;241m=\u001b[39mdata_collator, \u001b[38;5;66;03m# this will dynamically pad examples in each batch to be equal length\u001b[39;00m\n\u001b[0;32m      9\u001b[0m     compute_metrics\u001b[38;5;241m=\u001b[39mcompute_metrics,\n\u001b[0;32m     10\u001b[0m )\n\u001b[0;32m     12\u001b[0m \u001b[38;5;66;03m# train model\u001b[39;00m\n\u001b[0;32m     13\u001b[0m trainer\u001b[38;5;241m.\u001b[39mtrain()\n",
      "File \u001b[1;32mc:\\Users\\Qiblatain\\Documents\\Coding\\Python Projects\\LLM-Exploration\\llm-env\\Lib\\site-packages\\datasets\\dataset_dict.py:72\u001b[0m, in \u001b[0;36mDatasetDict.__getitem__\u001b[1;34m(self, k)\u001b[0m\n\u001b[0;32m     70\u001b[0m \u001b[38;5;28;01mdef\u001b[39;00m \u001b[38;5;21m__getitem__\u001b[39m(\u001b[38;5;28mself\u001b[39m, k) \u001b[38;5;241m-\u001b[39m\u001b[38;5;241m>\u001b[39m Dataset:\n\u001b[0;32m     71\u001b[0m     \u001b[38;5;28;01mif\u001b[39;00m \u001b[38;5;28misinstance\u001b[39m(k, (\u001b[38;5;28mstr\u001b[39m, NamedSplit)) \u001b[38;5;129;01mor\u001b[39;00m \u001b[38;5;28mlen\u001b[39m(\u001b[38;5;28mself\u001b[39m) \u001b[38;5;241m==\u001b[39m \u001b[38;5;241m0\u001b[39m:\n\u001b[1;32m---> 72\u001b[0m         \u001b[38;5;28;01mreturn\u001b[39;00m \u001b[38;5;28;43msuper\u001b[39;49m\u001b[43m(\u001b[49m\u001b[43m)\u001b[49m\u001b[38;5;241;43m.\u001b[39;49m\u001b[38;5;21;43m__getitem__\u001b[39;49m\u001b[43m(\u001b[49m\u001b[43mk\u001b[49m\u001b[43m)\u001b[49m\n\u001b[0;32m     73\u001b[0m     \u001b[38;5;28;01melse\u001b[39;00m:\n\u001b[0;32m     74\u001b[0m         available_suggested_splits \u001b[38;5;241m=\u001b[39m [\n\u001b[0;32m     75\u001b[0m             split \u001b[38;5;28;01mfor\u001b[39;00m split \u001b[38;5;129;01min\u001b[39;00m (Split\u001b[38;5;241m.\u001b[39mTRAIN, Split\u001b[38;5;241m.\u001b[39mTEST, Split\u001b[38;5;241m.\u001b[39mVALIDATION) \u001b[38;5;28;01mif\u001b[39;00m split \u001b[38;5;129;01min\u001b[39;00m \u001b[38;5;28mself\u001b[39m\n\u001b[0;32m     76\u001b[0m         ]\n",
      "\u001b[1;31mKeyError\u001b[0m: 'validation'"
     ]
    }
   ],
   "source": [
    "data_collator = DataCollatorWithPadding(tokenizer=tokenizer) # this will dynamically pad examples in each batch to be equal length\n",
    "\n",
    "\n",
    "# creater trainer object\n",
    "trainer = Trainer(\n",
    "    model=model,\n",
    "    args=args,\n",
    "    train_dataset=tokenized_dataset[\"train\"],\n",
    "    eval_dataset=tokenized_dataset[\"validation\"],\n",
    "    tokenizer=tokenizer,\n",
    "    data_collator=data_collator, # this will dynamically pad examples in each batch to be equal length\n",
    "    compute_metrics=compute_metrics,\n",
    ")\n",
    "\n",
    "# train model\n",
    "trainer.train()"
   ]
  }
 ],
 "metadata": {
  "kernelspec": {
   "display_name": "llm-env",
   "language": "python",
   "name": "python3"
  },
  "language_info": {
   "codemirror_mode": {
    "name": "ipython",
    "version": 3
   },
   "file_extension": ".py",
   "mimetype": "text/x-python",
   "name": "python",
   "nbconvert_exporter": "python",
   "pygments_lexer": "ipython3",
   "version": "3.11.9"
  }
 },
 "nbformat": 4,
 "nbformat_minor": 2
}
